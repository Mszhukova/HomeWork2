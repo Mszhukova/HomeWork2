{
  "nbformat": 4,
  "nbformat_minor": 0,
  "metadata": {
    "colab": {
      "name": "DZ2sub4.ipynb",
      "provenance": [],
      "collapsed_sections": []
    },
    "kernelspec": {
      "name": "python3",
      "display_name": "Python 3"
    }
  },
  "cells": [
    {
      "cell_type": "code",
      "metadata": {
        "id": "DAx6dTlB1XjO"
      },
      "source": [
        "import numpy as np\n",
        "import pandas as pd\n",
        "import matplotlib.pyplot as plt\n",
        "import seaborn as sns\n",
        "import os\n",
        "from sklearn.linear_model import SGDClassifier\n",
        "from sklearn import preprocessing\n",
        "from sklearn.preprocessing import LabelEncoder\n",
        "from sklearn.impute import SimpleImputer\n",
        "from sklearn.metrics import roc_auc_score\n",
        "from sklearn.linear_model import LogisticRegression, LogisticRegressionCV\n",
        "from sklearn.model_selection import KFold, StratifiedKFold, cross_val_score\n",
        "from sklearn.model_selection import train_test_split\n",
        "import lightgbm as lgb\n",
        "from lightgbm import LGBMRegressor\n",
        "from sklearn.tree import DecisionTreeClassifier\n",
        "from sklearn.preprocessing import MinMaxScaler"
      ],
      "execution_count": 25,
      "outputs": []
    },
    {
      "cell_type": "code",
      "metadata": {
        "id": "nHVaOOVOXai5"
      },
      "source": [
        "for dirname, _, filenames in os.walk('/kaggle/input'):\n",
        "    for filename in filenames:\n",
        "        print(os.path.join(dirname, filename))"
      ],
      "execution_count": 26,
      "outputs": []
    },
    {
      "cell_type": "code",
      "metadata": {
        "id": "HZjq7dILXd41"
      },
      "source": [
        "app_train = pd.read_csv(\"application_train.csv\")\n",
        "app_test = pd.read_csv(\"application_test.csv\")\n",
        "submission = pd.read_csv(\"sample_submission.csv\")"
      ],
      "execution_count": 27,
      "outputs": []
    },
    {
      "cell_type": "markdown",
      "metadata": {
        "id": "9XOE-GhLqtHP"
      },
      "source": [
        "### **Проведем преобразование данных для обучения**"
      ]
    },
    {
      "cell_type": "code",
      "metadata": {
        "id": "L31fJQsnmxLp"
      },
      "source": [
        "test_id = app_test['SK_ID_CURR']\n",
        "y_train=app_train['TARGET']"
      ],
      "execution_count": 28,
      "outputs": []
    },
    {
      "cell_type": "code",
      "metadata": {
        "id": "OOilhdO3mOPQ"
      },
      "source": [
        "def missing_data(data):\n",
        "    total = data.isnull().sum().sort_values(ascending = False)\n",
        "    percent = (data.isnull().sum()/data.isnull().count()*100).sort_values(ascending = False)\n",
        "    return pd.concat([total, percent], axis=1, keys=['Total', 'Percent'])"
      ],
      "execution_count": 29,
      "outputs": []
    },
    {
      "cell_type": "code",
      "metadata": {
        "id": "XwZPWhxzmT8p",
        "outputId": "f21b9718-ffc0-4fda-ff78-0bfe90a34f11",
        "colab": {
          "base_uri": "https://localhost:8080/",
          "height": 639
        }
      },
      "source": [
        "missing_values = missing_data(app_train)\n",
        "missing_values.head(20)"
      ],
      "execution_count": 30,
      "outputs": [
        {
          "output_type": "execute_result",
          "data": {
            "text/html": [
              "<div>\n",
              "<style scoped>\n",
              "    .dataframe tbody tr th:only-of-type {\n",
              "        vertical-align: middle;\n",
              "    }\n",
              "\n",
              "    .dataframe tbody tr th {\n",
              "        vertical-align: top;\n",
              "    }\n",
              "\n",
              "    .dataframe thead th {\n",
              "        text-align: right;\n",
              "    }\n",
              "</style>\n",
              "<table border=\"1\" class=\"dataframe\">\n",
              "  <thead>\n",
              "    <tr style=\"text-align: right;\">\n",
              "      <th></th>\n",
              "      <th>Total</th>\n",
              "      <th>Percent</th>\n",
              "    </tr>\n",
              "  </thead>\n",
              "  <tbody>\n",
              "    <tr>\n",
              "      <th>COMMONAREA_MEDI</th>\n",
              "      <td>214865</td>\n",
              "      <td>69.872297</td>\n",
              "    </tr>\n",
              "    <tr>\n",
              "      <th>COMMONAREA_AVG</th>\n",
              "      <td>214865</td>\n",
              "      <td>69.872297</td>\n",
              "    </tr>\n",
              "    <tr>\n",
              "      <th>COMMONAREA_MODE</th>\n",
              "      <td>214865</td>\n",
              "      <td>69.872297</td>\n",
              "    </tr>\n",
              "    <tr>\n",
              "      <th>NONLIVINGAPARTMENTS_MODE</th>\n",
              "      <td>213514</td>\n",
              "      <td>69.432963</td>\n",
              "    </tr>\n",
              "    <tr>\n",
              "      <th>NONLIVINGAPARTMENTS_MEDI</th>\n",
              "      <td>213514</td>\n",
              "      <td>69.432963</td>\n",
              "    </tr>\n",
              "    <tr>\n",
              "      <th>NONLIVINGAPARTMENTS_AVG</th>\n",
              "      <td>213514</td>\n",
              "      <td>69.432963</td>\n",
              "    </tr>\n",
              "    <tr>\n",
              "      <th>FONDKAPREMONT_MODE</th>\n",
              "      <td>210295</td>\n",
              "      <td>68.386172</td>\n",
              "    </tr>\n",
              "    <tr>\n",
              "      <th>LIVINGAPARTMENTS_MEDI</th>\n",
              "      <td>210199</td>\n",
              "      <td>68.354953</td>\n",
              "    </tr>\n",
              "    <tr>\n",
              "      <th>LIVINGAPARTMENTS_MODE</th>\n",
              "      <td>210199</td>\n",
              "      <td>68.354953</td>\n",
              "    </tr>\n",
              "    <tr>\n",
              "      <th>LIVINGAPARTMENTS_AVG</th>\n",
              "      <td>210199</td>\n",
              "      <td>68.354953</td>\n",
              "    </tr>\n",
              "    <tr>\n",
              "      <th>FLOORSMIN_MEDI</th>\n",
              "      <td>208642</td>\n",
              "      <td>67.848630</td>\n",
              "    </tr>\n",
              "    <tr>\n",
              "      <th>FLOORSMIN_MODE</th>\n",
              "      <td>208642</td>\n",
              "      <td>67.848630</td>\n",
              "    </tr>\n",
              "    <tr>\n",
              "      <th>FLOORSMIN_AVG</th>\n",
              "      <td>208642</td>\n",
              "      <td>67.848630</td>\n",
              "    </tr>\n",
              "    <tr>\n",
              "      <th>YEARS_BUILD_MEDI</th>\n",
              "      <td>204488</td>\n",
              "      <td>66.497784</td>\n",
              "    </tr>\n",
              "    <tr>\n",
              "      <th>YEARS_BUILD_AVG</th>\n",
              "      <td>204488</td>\n",
              "      <td>66.497784</td>\n",
              "    </tr>\n",
              "    <tr>\n",
              "      <th>YEARS_BUILD_MODE</th>\n",
              "      <td>204488</td>\n",
              "      <td>66.497784</td>\n",
              "    </tr>\n",
              "    <tr>\n",
              "      <th>OWN_CAR_AGE</th>\n",
              "      <td>202929</td>\n",
              "      <td>65.990810</td>\n",
              "    </tr>\n",
              "    <tr>\n",
              "      <th>LANDAREA_MODE</th>\n",
              "      <td>182590</td>\n",
              "      <td>59.376738</td>\n",
              "    </tr>\n",
              "    <tr>\n",
              "      <th>LANDAREA_AVG</th>\n",
              "      <td>182590</td>\n",
              "      <td>59.376738</td>\n",
              "    </tr>\n",
              "    <tr>\n",
              "      <th>LANDAREA_MEDI</th>\n",
              "      <td>182590</td>\n",
              "      <td>59.376738</td>\n",
              "    </tr>\n",
              "  </tbody>\n",
              "</table>\n",
              "</div>"
            ],
            "text/plain": [
              "                           Total    Percent\n",
              "COMMONAREA_MEDI           214865  69.872297\n",
              "COMMONAREA_AVG            214865  69.872297\n",
              "COMMONAREA_MODE           214865  69.872297\n",
              "NONLIVINGAPARTMENTS_MODE  213514  69.432963\n",
              "NONLIVINGAPARTMENTS_MEDI  213514  69.432963\n",
              "NONLIVINGAPARTMENTS_AVG   213514  69.432963\n",
              "FONDKAPREMONT_MODE        210295  68.386172\n",
              "LIVINGAPARTMENTS_MEDI     210199  68.354953\n",
              "LIVINGAPARTMENTS_MODE     210199  68.354953\n",
              "LIVINGAPARTMENTS_AVG      210199  68.354953\n",
              "FLOORSMIN_MEDI            208642  67.848630\n",
              "FLOORSMIN_MODE            208642  67.848630\n",
              "FLOORSMIN_AVG             208642  67.848630\n",
              "YEARS_BUILD_MEDI          204488  66.497784\n",
              "YEARS_BUILD_AVG           204488  66.497784\n",
              "YEARS_BUILD_MODE          204488  66.497784\n",
              "OWN_CAR_AGE               202929  65.990810\n",
              "LANDAREA_MODE             182590  59.376738\n",
              "LANDAREA_AVG              182590  59.376738\n",
              "LANDAREA_MEDI             182590  59.376738"
            ]
          },
          "metadata": {
            "tags": []
          },
          "execution_count": 30
        }
      ]
    },
    {
      "cell_type": "code",
      "metadata": {
        "id": "SwHopPksmXnY"
      },
      "source": [
        "# закодируем категориальные признаки\n",
        "app_train = pd.get_dummies(app_train)\n",
        "app_test = pd.get_dummies(app_test)"
      ],
      "execution_count": 31,
      "outputs": []
    },
    {
      "cell_type": "code",
      "metadata": {
        "id": "mAyKNnxzmhsn"
      },
      "source": [
        "#выровняем количество столбцов в train и test\n",
        "train_labels = app_train['TARGET']\n",
        "app_train, app_test = app_train.align(app_test, join = 'inner', axis = 1)\n",
        "app_train['TARGET'] = train_labels"
      ],
      "execution_count": 32,
      "outputs": []
    },
    {
      "cell_type": "code",
      "metadata": {
        "id": "I7ZtQzg5nY49"
      },
      "source": [
        "#уберем выбросы в столбце DAYS_EMPLOYED для train и test\n",
        "anom = app_train[app_train['DAYS_EMPLOYED'] == 365243]\n",
        "non_anom = app_train[app_train['DAYS_EMPLOYED'] != 365243]\n",
        "app_train['DAYS_EMPLOYED_ANOM'] = app_train[\"DAYS_EMPLOYED\"] == 365243\n",
        "app_train['DAYS_EMPLOYED'].replace({365243: np.nan}, inplace = True)\n",
        "app_test['DAYS_EMPLOYED_ANOM'] = app_test[\"DAYS_EMPLOYED\"] == 365243\n",
        "app_test[\"DAYS_EMPLOYED\"].replace({365243: np.nan}, inplace = True)"
      ],
      "execution_count": 33,
      "outputs": []
    },
    {
      "cell_type": "code",
      "metadata": {
        "id": "MxkIG23Uj01t"
      },
      "source": [
        "# Уберем целевую переменную из train\n",
        "if 'TARGET' in app_train:\n",
        "    train = app_train.drop(columns = ['TARGET'])\n",
        "else:\n",
        "    train = app_train.copy()"
      ],
      "execution_count": 34,
      "outputs": []
    },
    {
      "cell_type": "code",
      "metadata": {
        "id": "F7sjl7nEkCpy"
      },
      "source": [
        "features = list(train.columns)\n",
        "test = app_test.copy()"
      ],
      "execution_count": 35,
      "outputs": []
    },
    {
      "cell_type": "code",
      "metadata": {
        "id": "kUtAFoPepR5H"
      },
      "source": [
        "# Заполним пропущенные значения медианами и нормируем значения признаков\n",
        "imputer = SimpleImputer(strategy = 'median')\n",
        "scaler = MinMaxScaler(feature_range = (0, 1))\n",
        "\n",
        "imputer.fit(train)\n",
        "\n",
        "train = imputer.transform(train)\n",
        "test = imputer.transform(app_test)\n",
        "\n",
        "scaler.fit(train)\n",
        "train = scaler.transform(train)\n",
        "test = scaler.transform(test)"
      ],
      "execution_count": 36,
      "outputs": []
    },
    {
      "cell_type": "markdown",
      "metadata": {
        "id": "W0nr34n6q2OF"
      },
      "source": [
        "### **Построим модель**\n",
        "В качестве признаков были взяты все значения, при этом были преобразованы категориальные переменные, заполнены пропущенные значения и нормализованы данные, так как при использовании двух и трех, коррелируемых с целевой переменной, признаков не удается получить более точного результата, чем при использовании всех признаков, при исключении признаков, значение пропусков в которых более 50%, также не привело к улучшению результата. "
      ]
    },
    {
      "cell_type": "code",
      "metadata": {
        "id": "AyxPoZ4Yr4eB"
      },
      "source": [
        "log_reg_cv = LogisticRegressionCV(cv =5, solver='liblinear', penalty='l2', tol=1e-4, multi_class='ovr', random_state=3)"
      ],
      "execution_count": 44,
      "outputs": []
    },
    {
      "cell_type": "code",
      "metadata": {
        "id": "0iKUoiKFi5s2"
      },
      "source": [
        "X_train, X_test, y_train, y_test = train_test_split(train, y_train, test_size = 0.3, random_state = 200)"
      ],
      "execution_count": 45,
      "outputs": []
    },
    {
      "cell_type": "code",
      "metadata": {
        "id": "zG_T8W2cr8r4",
        "outputId": "80fbe753-8562-4050-ad5c-de7cddde6976",
        "colab": {
          "base_uri": "https://localhost:8080/"
        }
      },
      "source": [
        "log_reg_cv.fit(X_train, y_train)\n",
        "pred_cv = log_reg_cv.predict_proba(X_test)[:,1]\n",
        "print(\"ROC Score\",  roc_auc_score(y_test, pred_cv))"
      ],
      "execution_count": 46,
      "outputs": [
        {
          "output_type": "stream",
          "text": [
            "ROC Score 0.7428419402922601\n"
          ],
          "name": "stdout"
        }
      ]
    },
    {
      "cell_type": "code",
      "metadata": {
        "id": "wj8BuJShsBOC"
      },
      "source": [
        "predict_test = logreg.predict_proba(test)[:,1]"
      ],
      "execution_count": 47,
      "outputs": []
    },
    {
      "cell_type": "code",
      "metadata": {
        "id": "mn3bHZ1pjCf9"
      },
      "source": [
        "submission['SK_ID_CURR'] = test_id.values\n",
        "submission['TARGET'] = predict_test"
      ],
      "execution_count": 51,
      "outputs": []
    },
    {
      "cell_type": "code",
      "metadata": {
        "id": "aIGfI2egjGF4"
      },
      "source": [
        "submission.to_csv('my_sub.csv', index = False)"
      ],
      "execution_count": 52,
      "outputs": []
    },
    {
      "cell_type": "code",
      "metadata": {
        "id": "ZODMTYSVjJU2",
        "outputId": "f8d9f29c-7544-41f0-e189-747aca992b3b",
        "colab": {
          "base_uri": "https://localhost:8080/",
          "height": 195
        }
      },
      "source": [
        "df = pd.read_csv('my_sub.csv')\n",
        "df.head(5)"
      ],
      "execution_count": 53,
      "outputs": [
        {
          "output_type": "execute_result",
          "data": {
            "text/html": [
              "<div>\n",
              "<style scoped>\n",
              "    .dataframe tbody tr th:only-of-type {\n",
              "        vertical-align: middle;\n",
              "    }\n",
              "\n",
              "    .dataframe tbody tr th {\n",
              "        vertical-align: top;\n",
              "    }\n",
              "\n",
              "    .dataframe thead th {\n",
              "        text-align: right;\n",
              "    }\n",
              "</style>\n",
              "<table border=\"1\" class=\"dataframe\">\n",
              "  <thead>\n",
              "    <tr style=\"text-align: right;\">\n",
              "      <th></th>\n",
              "      <th>SK_ID_CURR</th>\n",
              "      <th>TARGET</th>\n",
              "    </tr>\n",
              "  </thead>\n",
              "  <tbody>\n",
              "    <tr>\n",
              "      <th>0</th>\n",
              "      <td>100001</td>\n",
              "      <td>0.060073</td>\n",
              "    </tr>\n",
              "    <tr>\n",
              "      <th>1</th>\n",
              "      <td>100005</td>\n",
              "      <td>0.212785</td>\n",
              "    </tr>\n",
              "    <tr>\n",
              "      <th>2</th>\n",
              "      <td>100013</td>\n",
              "      <td>0.036319</td>\n",
              "    </tr>\n",
              "    <tr>\n",
              "      <th>3</th>\n",
              "      <td>100028</td>\n",
              "      <td>0.034480</td>\n",
              "    </tr>\n",
              "    <tr>\n",
              "      <th>4</th>\n",
              "      <td>100038</td>\n",
              "      <td>0.120195</td>\n",
              "    </tr>\n",
              "  </tbody>\n",
              "</table>\n",
              "</div>"
            ],
            "text/plain": [
              "   SK_ID_CURR    TARGET\n",
              "0      100001  0.060073\n",
              "1      100005  0.212785\n",
              "2      100013  0.036319\n",
              "3      100028  0.034480\n",
              "4      100038  0.120195"
            ]
          },
          "metadata": {
            "tags": []
          },
          "execution_count": 53
        }
      ]
    },
    {
      "cell_type": "markdown",
      "metadata": {
        "id": "X9pPyCG7rw7k"
      },
      "source": [
        "### **Построим график зависимости метрик на лидерборде и на кросс-валидации**\n",
        "Submission 1 - LogisticRegressionCV, с 2-мя гиперпараметрами, со всеми признаками \n",
        "\n",
        "Submission 2 - LogisticRegressionCV, увеличели количество гиперпараметров, убрали признаки, значение пропусков в которых более 60%\n",
        "\n",
        "Submission 3 - LogisticRegression + кросс-валидация, убрали признаки, значение пропусков в которых более 60%\n",
        "\n",
        "Submission 4 - LogisticRegression + кросс-валидация, со всеми признаками, + изменили преобразование данных для модели\n",
        "\n",
        "Submission 5 - LogisticRegressionCV со всеми признаками + изменили преобразование данных для модели"
      ]
    },
    {
      "cell_type": "code",
      "metadata": {
        "id": "vI_CfuJTnPH-"
      },
      "source": [
        "df = pd.DataFrame({'roc_auc_scores': [0.50023, 0.62893, 0.62893, 0.68662, 0.74284],\n",
        "                   'leaderboard_scores': [0.50000, 0.61065, 0.61065, 0.68356, 0.73780 ]})"
      ],
      "execution_count": 54,
      "outputs": []
    },
    {
      "cell_type": "code",
      "metadata": {
        "id": "RWm8yH4Qvrk8",
        "outputId": "454f18ff-b909-4217-ab84-78b6f1d514d9",
        "colab": {
          "base_uri": "https://localhost:8080/",
          "height": 279
        }
      },
      "source": [
        "df.plot()\n",
        "plt.xlabel('График зависимости метрик')\n",
        "None"
      ],
      "execution_count": 57,
      "outputs": [
        {
          "output_type": "display_data",
          "data": {
            "image/png": "[encoded data removed]",
            "text/plain": [
              "<Figure size 432x288 with 1 Axes>"
            ]
          },
          "metadata": {
            "tags": [],
            "needs_background": "light"
          }
        }
      ]
    },
    {
      "cell_type": "markdown",
      "metadata": {
        "id": "VJo0lS8Xwwz7"
      },
      "source": [
        "Таким образом, значения на кросс-валидации немного лучше, чем на лидерборде, самого лучшего результата удалось добиться используя все признаки и модель LogisticRegressionCV."
      ]
    }
  ]
}